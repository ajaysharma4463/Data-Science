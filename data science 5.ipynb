{
 "cells": [
  {
   "cell_type": "code",
   "execution_count": null,
   "metadata": {},
   "outputs": [],
   "source": [
    "# confusion metrics is the simplest metrics to find out the accuracy and correctness of the classification model\n",
    "# what is classification \n",
    "\n",
    "# classifcation is a supervised machine learning technique\n",
    "# like survival rate , wheter he live or not 2\n",
    "# for iris we have 3\n",
    "# for spam , we have 4(promotion,social,spam,legimate)\n",
    "\n",
    "# cofusion metrics is also called error metrics\n",
    "# each row represnt actua data\n",
    "#each column represent predictrion\n",
    "\n",
    "            predicted value\n",
    "actual values  0 -ve  1 +ve\n",
    "        0     25(TN)  15(FP)\n",
    "        1     30(Fn)  80(Tp)\n",
    "        \n",
    "#00 true\n",
    "#11 true\n",
    "#01 10 false\n",
    "\n",
    "# this is 2 *2 reprenstaton\n",
    "        \n",
    "#classification model correctly found 25 which are incorrect\n",
    "\n",
    "\n",
    "from sklearn.metrics import confusion_matrix\n",
    "confusion_metrix(y,y_pred)\n",
    "\n",
    "\n",
    "\n",
    "\n",
    "\n",
    "# what is type 1 and type 11 error in confusion matrix\n",
    "# it is nothing but the false negative and false positive\n",
    "#FP and FN\n",
    "\n",
    "\n",
    "# fasle positive is type 1 error\n",
    "# fasle negative is type 11 error\n",
    "\n",
    "\n",
    "\n",
    "# false positive if false true   --type 1\n",
    "# faasle nefative is false false --type11\n",
    "\n",
    "\n",
    "\n",
    "# what is accuracy\n",
    "# \n",
    "            predicted value\n",
    "actual values  0 -ve  1 +ve\n",
    "        0     40      10\n",
    "        1     5      95\n",
    "        n=150\n",
    "        \n",
    "accuracy =correctly predicted/total\n",
    "         = 40+95/150\n",
    "        =0.9\n",
    "        \n",
    "error rate=error/total\n",
    "        =10+5/150\n",
    "    \n",
    "#or we can do one more thing    1-accuracy=error rate\n",
    "\n",
    "\n",
    "\n",
    "\n",
    "\n",
    "# now we will discuss rate \n",
    "   0   1\n",
    "0  47  3\n",
    "1  5   45\n",
    "\n",
    "TPR=45/45+5  =0.9\n",
    "TNR=47/47+3  =0.94\n",
    "FPR=3/47+3   =0.06\n",
    "FNR=5/45+5   =0.01\n",
    "\n",
    "\n",
    "\n",
    "\n",
    "#Lets take an another example\n",
    " \n",
    "x(Actual)   x'(predicted)\n",
    "1           1\n",
    "1           1\n",
    "1           1\n",
    "1           1\n",
    "0           1\n",
    "1           0\n",
    "0           0\n",
    "0           0\n",
    "\n",
    "\n",
    "        predicted\n",
    "    1           0\n",
    "1   4           1\n",
    "0   1           2\n",
    "\n"
   ]
  },
  {
   "cell_type": "markdown",
   "metadata": {},
   "source": [
    "# Feature scaling\n"
   ]
  },
  {
   "cell_type": "code",
   "execution_count": null,
   "metadata": {},
   "outputs": [],
   "source": [
    "#Feature Scaling or Standardization: It is a step of Data Pre Processing which is applied to independent variables or\n",
    " #   features of data. It basically helps to normalise the data within a particular range. Sometimes,\n",
    " #   it also helps in speeding up the calculations in an algorithm. Package Used: sklearn.preprocessing"
   ]
  },
  {
   "cell_type": "code",
   "execution_count": 1,
   "metadata": {},
   "outputs": [],
   "source": [
    "from sklearn import preprocessing"
   ]
  },
  {
   "cell_type": "code",
   "execution_count": 3,
   "metadata": {},
   "outputs": [],
   "source": [
    "import numpy as np\n",
    "x=np.array([[-400],[-100],[0],[100],[400]])"
   ]
  },
  {
   "cell_type": "code",
   "execution_count": 4,
   "metadata": {},
   "outputs": [
    {
     "data": {
      "text/plain": [
       "array([[-400],\n",
       "       [-100],\n",
       "       [   0],\n",
       "       [ 100],\n",
       "       [ 400]])"
      ]
     },
     "execution_count": 4,
     "metadata": {},
     "output_type": "execute_result"
    }
   ],
   "source": [
    "x"
   ]
  },
  {
   "cell_type": "code",
   "execution_count": 5,
   "metadata": {},
   "outputs": [],
   "source": [
    "minmax=preprocessing.MinMaxScaler(feature_range=(0,1))"
   ]
  },
  {
   "cell_type": "code",
   "execution_count": 7,
   "metadata": {},
   "outputs": [],
   "source": [
    "x_scaler=minmax.fit_transform(x)"
   ]
  },
  {
   "cell_type": "code",
   "execution_count": 8,
   "metadata": {},
   "outputs": [
    {
     "data": {
      "text/plain": [
       "array([[0.   ],\n",
       "       [0.375],\n",
       "       [0.5  ],\n",
       "       [0.625],\n",
       "       [1.   ]])"
      ]
     },
     "execution_count": 8,
     "metadata": {},
     "output_type": "execute_result"
    }
   ],
   "source": [
    "x_scaler   # it represnt the value betweeen 0 to 1"
   ]
  },
  {
   "cell_type": "code",
   "execution_count": null,
   "metadata": {},
   "outputs": [],
   "source": [
    "#Note that, by default, it transforms the data into a range between 0 and 1 (-1 and 1, if there are negative values).\n",
    "#It can be used as an alternative to The Standard Scaler or when the data is not normally distributed"
   ]
  },
  {
   "cell_type": "code",
   "execution_count": 9,
   "metadata": {},
   "outputs": [
    {
     "data": {
      "text/plain": [
       "array([[10.   ],\n",
       "       [10.375],\n",
       "       [10.5  ],\n",
       "       [10.625],\n",
       "       [11.   ]])"
      ]
     },
     "execution_count": 9,
     "metadata": {},
     "output_type": "execute_result"
    }
   ],
   "source": [
    "minmax=preprocessing.MinMaxScaler(feature_range=(10,11))\n",
    "x_scaler=minmax.fit_transform(x)\n",
    "x_scaler ## now i have chge the value"
   ]
  },
  {
   "cell_type": "code",
   "execution_count": null,
   "metadata": {},
   "outputs": [],
   "source": [
    "#feature scaling formula\n",
    "(xi-xmin)/(xmax-xmin)\n",
    "\n",
    "lets use   minmax=preprocessing.MinMaxScaler(feature_range=(0,1))\n",
    "array([[-400],\n",
    "       [-100],\n",
    "       [   0],\n",
    "       [ 100],\n",
    "       [ 400]])\n",
    "\n",
    "(-400-(-400))/(400-(-400))\n",
    "0/800\n",
    "0\n",
    "#so the value is 0\n",
    "\n"
   ]
  },
  {
   "cell_type": "markdown",
   "metadata": {},
   "source": [
    "# feature scaling by Standardscaler"
   ]
  },
  {
   "cell_type": "code",
   "execution_count": 11,
   "metadata": {},
   "outputs": [],
   "source": [
    "from sklearn import preprocessing \n",
    "import numpy as np\n",
    "\n",
    "x=np.array([[-400],[-100],[0],[100],[400]])"
   ]
  },
  {
   "cell_type": "code",
   "execution_count": 12,
   "metadata": {},
   "outputs": [
    {
     "data": {
      "text/plain": [
       "array([[-1.53392998],\n",
       "       [-0.38348249],\n",
       "       [ 0.        ],\n",
       "       [ 0.38348249],\n",
       "       [ 1.53392998]])"
      ]
     },
     "execution_count": 12,
     "metadata": {},
     "output_type": "execute_result"
    }
   ],
   "source": [
    "standard=preprocessing.StandardScaler()\n",
    "x_scalar=standard.fit_transform(x)\n",
    "x_scalar\n",
    "\n",
    "# it look like value is from -1 to 1"
   ]
  },
  {
   "cell_type": "code",
   "execution_count": null,
   "metadata": {},
   "outputs": [],
   "source": [
    "#formula  is\n",
    "(x1-xmean)/(standard devaition of the feature)\n"
   ]
  },
  {
   "cell_type": "markdown",
   "metadata": {},
   "source": [
    "# feature scaling from normalizer"
   ]
  },
  {
   "cell_type": "code",
   "execution_count": 15,
   "metadata": {},
   "outputs": [
    {
     "data": {
      "text/plain": [
       "array([[-1.],\n",
       "       [-1.],\n",
       "       [ 0.],\n",
       "       [ 1.],\n",
       "       [ 1.]])"
      ]
     },
     "execution_count": 15,
     "metadata": {},
     "output_type": "execute_result"
    }
   ],
   "source": [
    "from sklearn import preprocessing \n",
    "import numpy as np\n",
    "\n",
    "x=np.array([[-400],[-100],[0],[100],[400]])\n",
    "\n",
    "normalizer=preprocessing.Normalizer()\n",
    "x_scalar=normalizer.fit_transform(x)\n",
    "x_scalar"
   ]
  },
  {
   "cell_type": "markdown",
   "metadata": {},
   "source": [
    "# feature scaling from Binarizer"
   ]
  },
  {
   "cell_type": "code",
   "execution_count": 16,
   "metadata": {},
   "outputs": [
    {
     "data": {
      "text/plain": [
       "array([[0],\n",
       "       [0],\n",
       "       [0],\n",
       "       [1],\n",
       "       [1]])"
      ]
     },
     "execution_count": 16,
     "metadata": {},
     "output_type": "execute_result"
    }
   ],
   "source": [
    "from sklearn import preprocessing \n",
    "import numpy as np\n",
    "\n",
    "x=np.array([[-400],[-100],[0],[100],[400]])\n",
    "\n",
    "Binarizer=preprocessing.Binarizer()\n",
    "x_scalar=Binarizer.fit_transform(x)\n",
    "x_scalar"
   ]
  },
  {
   "cell_type": "markdown",
   "metadata": {},
   "source": [
    "# feature scaling from MaxAbsScaler"
   ]
  },
  {
   "cell_type": "code",
   "execution_count": 17,
   "metadata": {},
   "outputs": [
    {
     "data": {
      "text/plain": [
       "array([[-1.  ],\n",
       "       [-0.25],\n",
       "       [ 0.  ],\n",
       "       [ 0.25],\n",
       "       [ 1.  ]])"
      ]
     },
     "execution_count": 17,
     "metadata": {},
     "output_type": "execute_result"
    }
   ],
   "source": [
    "from sklearn import preprocessing \n",
    "import numpy as np\n",
    "\n",
    "x=np.array([[-400],[-100],[0],[100],[400]])\n",
    "\n",
    "MaxAbsScaler=preprocessing.MaxAbsScaler()\n",
    "x_scalar=MaxAbsScaler.fit_transform(x)\n",
    "x_scalar"
   ]
  },
  {
   "cell_type": "markdown",
   "metadata": {},
   "source": [
    "# Feature scaling from RobustScaler"
   ]
  },
  {
   "cell_type": "code",
   "execution_count": 19,
   "metadata": {},
   "outputs": [
    {
     "data": {
      "text/plain": [
       "array([[-1.3],\n",
       "       [-0.9],\n",
       "       [-0.5],\n",
       "       [-0.1],\n",
       "       [ 0.1],\n",
       "       [ 0.3],\n",
       "       [ 0.7],\n",
       "       [ 1.9]])"
      ]
     },
     "execution_count": 19,
     "metadata": {},
     "output_type": "execute_result"
    }
   ],
   "source": [
    "from sklearn import preprocessing \n",
    "import numpy as np\n",
    "\n",
    "x=np.array([[-400],[-300],[-200],[-100],[-50],[0],[100],[400]])\n",
    "\n",
    "RobustScaler=preprocessing.RobustScaler()\n",
    "x_scalar=RobustScaler.fit_transform(x)\n",
    "x_scalar"
   ]
  },
  {
   "cell_type": "code",
   "execution_count": null,
   "metadata": {},
   "outputs": [],
   "source": [
    "#using inverse_transform to get bak out previous  data"
   ]
  },
  {
   "cell_type": "code",
   "execution_count": 26,
   "metadata": {},
   "outputs": [
    {
     "data": {
      "text/plain": [
       "array([[-1.42105964],\n",
       "       [-0.9920605 ],\n",
       "       [-0.56306137],\n",
       "       [-0.13406223],\n",
       "       [ 0.08043734],\n",
       "       [ 0.29493691],\n",
       "       [ 0.72393604],\n",
       "       [ 2.01093345]])"
      ]
     },
     "execution_count": 26,
     "metadata": {},
     "output_type": "execute_result"
    }
   ],
   "source": [
    "from sklearn import preprocessing \n",
    "import numpy as np\n",
    "\n",
    "x=np.array([[-400],[-300],[-200],[-100],[-50],[0],[100],[400]])\n",
    "\n",
    "standard=preprocessing.StandardScaler()\n",
    "x_scalar=standard.fit_transform(x)\n",
    "x_scalar\n",
    "\n",
    "\n",
    "\n",
    "\n"
   ]
  },
  {
   "cell_type": "code",
   "execution_count": 28,
   "metadata": {},
   "outputs": [
    {
     "data": {
      "text/plain": [
       "array([[-400.],\n",
       "       [-300.],\n",
       "       [-200.],\n",
       "       [-100.],\n",
       "       [ -50.],\n",
       "       [   0.],\n",
       "       [ 100.],\n",
       "       [ 400.]])"
      ]
     },
     "execution_count": 28,
     "metadata": {},
     "output_type": "execute_result"
    }
   ],
   "source": [
    "x_scalar_transform=standard.inverse_transform(x_scalar)\n",
    "x_scalar_transform"
   ]
  },
  {
   "cell_type": "code",
   "execution_count": null,
   "metadata": {},
   "outputs": [],
   "source": []
  }
 ],
 "metadata": {
  "kernelspec": {
   "display_name": "Python 3",
   "language": "python",
   "name": "python3"
  },
  "language_info": {
   "codemirror_mode": {
    "name": "ipython",
    "version": 3
   },
   "file_extension": ".py",
   "mimetype": "text/x-python",
   "name": "python",
   "nbconvert_exporter": "python",
   "pygments_lexer": "ipython3",
   "version": "3.7.4"
  }
 },
 "nbformat": 4,
 "nbformat_minor": 2
}
